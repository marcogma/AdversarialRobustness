{
 "cells": [
  {
   "cell_type": "code",
   "execution_count": null,
   "metadata": {
    "id": "3neetbORxis_"
   },
   "outputs": [],
   "source": []
  },
  {
   "cell_type": "markdown",
   "metadata": {
    "id": "w0DlpVdN5vmn"
   },
   "source": [
    "# Standar classification\n",
    "In a standard classification task with an underlying data distribution  $D$ over pairs of examples $x \\in IR^d $ and corresponding labels $y$.\n",
    "We assume that we are given a suitable loss function $L(\\theta, x, y)$, for instance the cross-entropy loss for a neural network. Our goal then is to find model parameters $\\theta$ that minimize the risk $E_{(x,y)D}[L(x, y, \\theta)]$."
   ]
  },
  {
   "cell_type": "markdown",
   "metadata": {
    "id": "kl4e5f0pxpqw"
   },
   "source": [
    "# Defining adversarial attack and adversarial training \n"
   ]
  },
  {
   "cell_type": "markdown",
   "metadata": {
    "id": "6t9XAAwmSPBW"
   },
   "source": [
    "## Atack Model\n",
    "For each data point $x$, we introduce a set of allowed perturbations $S \\in R^d$ that formalizes the manipulative power of the adversary. In image classification, we choose $S$ so that it captures perceptual similarity between images. For instance,the $ℓ_\\infty$-ball around $x$ has recently been studied as a natural notion for adversarial perturbations. Then we search to optimize the following:\n",
    " $$\\max_{\\delta \\in S} L(\\theta, x+\\delta,y)$$\n",
    "\n",
    " ## Defense Model\n",
    "we modify the definition of population risk ED[L] by incorporating the above adversary.\n",
    "Instead of feeding samples from the distribution $D$ directly into the loss $L$, we allow the adversary\n",
    "to perturb the input first. This gives rise to the following **saddle point problem**, which is our central\n",
    "object of study\n",
    "  $$\\min_{\\theta} \\mathbb{E_{(x,y)}}_D[\\max_{\\delta \\in S} L(\\theta, x+\\delta,y)]$$\n",
    "\n",
    "The inner maximization problem aims to find\n",
    "an adversarial version of a given data point x that achieves a high loss. This is precisely the problem\n",
    "of attacking a given neural network. On the other hand, the goal of the outer minimization problem\n",
    "is to find model parameters so that the “adversarial loss” given by the inner attack problem is\n",
    "minimized. This is precisely the problem of training a robust classifier using adversarial training\n",
    "techniques"
   ]
  },
  {
   "cell_type": "code",
   "execution_count": 1,
   "metadata": {
    "executionInfo": {
     "elapsed": 2344,
     "status": "ok",
     "timestamp": 1605463453055,
     "user": {
      "displayName": "Marco Garcia Macias",
      "photoUrl": "https://lh3.googleusercontent.com/a-/AOh14GgBr5-aZglGAjSWiPT7RhTxBWueutxFAhoEsR5icA=s64",
      "userId": "16092819022456671807"
     },
     "user_tz": -60
    },
    "id": "zarBMo5-yGIL"
   },
   "outputs": [
    {
     "name": "stderr",
     "output_type": "stream",
     "text": [
      "Using TensorFlow backend.\n"
     ]
    }
   ],
   "source": [
    "import tensorflow as tf\n",
    "import numpy as np\n",
    "import matplotlib.pyplot as plt\n",
    "import keras"
   ]
  },
  {
   "cell_type": "code",
   "execution_count": 2,
   "metadata": {},
   "outputs": [],
   "source": [
    "width = 100\n",
    "height = 100"
   ]
  },
  {
   "cell_type": "code",
   "execution_count": 3,
   "metadata": {},
   "outputs": [],
   "source": [
    "#DATA\n",
    "(X_train, Y_train), (X_test, Y_test) = tf.keras.datasets.cifar10.load_data()\n",
    "X_train , X_test = X_train.astype(np.float32) , X_test.astype(np.float32)\n",
    "labels = ['airplane', 'automobile', 'bird', 'cat', 'deer', 'dog', 'frog', 'horse', 'ship', 'truck']\n",
    "Y_train = keras.utils.np_utils.to_categorical(Y_train, len(labels)) #tf.keras.utils.to_categorical(y_train, dtype='float32')\n",
    "Y_test = keras.utils.np_utils.to_categorical(Y_test, len(labels))\n",
    "\n",
    "x_train = tf.data.Dataset.from_tensor_slices(X_train)\n",
    "x_test = tf.data.Dataset.from_tensor_slices(X_test)\n",
    "y_train = tf.data.Dataset.from_tensor_slices(Y_train)\n",
    "y_test = tf.data.Dataset.from_tensor_slices(Y_test)\n",
    "\n",
    "train_ds = tf.data.Dataset.zip((x_train,y_train))\n",
    "test_ds = tf.data.Dataset.zip((x_test,y_test))\n",
    "train_ds = train_ds.batch(128)\n",
    "test_ds = test_ds.batch(1)"
   ]
  },
  {
   "cell_type": "code",
   "execution_count": 4,
   "metadata": {
    "colab": {
     "base_uri": "https://localhost:8080/"
    },
    "executionInfo": {
     "elapsed": 13645,
     "status": "ok",
     "timestamp": 1605463688543,
     "user": {
      "displayName": "Marco Garcia Macias",
      "photoUrl": "https://lh3.googleusercontent.com/a-/AOh14GgBr5-aZglGAjSWiPT7RhTxBWueutxFAhoEsR5icA=s64",
      "userId": "16092819022456671807"
     },
     "user_tz": -60
    },
    "id": "gLfEDDBGyHO0",
    "outputId": "7fe064b4-7967-42ea-a71e-9dcd22a0722a"
   },
   "outputs": [],
   "source": [
    "def preprocess(image):\n",
    "    image = tf.image.resize(image, (width, height))\n",
    "    image = tf.keras.applications.vgg16.preprocess_input(image)\n",
    "    return image\n",
    "\n",
    "def gaussian_blur(img, kernel_size=11, sigma=5):\n",
    "    def gauss_kernel(channels, kernel_size, sigma):\n",
    "        ax = tf.range(-kernel_size // 2 + 1.0, kernel_size // 2 + 1.0)\n",
    "        xx, yy = tf.meshgrid(ax, ax)\n",
    "        kernel = tf.exp(-(xx ** 2 + yy ** 2) / (2.0 * sigma ** 2))\n",
    "        kernel = kernel / tf.reduce_sum(kernel)\n",
    "        kernel = tf.tile(kernel[..., tf.newaxis], [1, 1, channels])\n",
    "        return kernel\n",
    "\n",
    "    gaussian_kernel = gauss_kernel(tf.shape(img)[-1], kernel_size, sigma)\n",
    "    gaussian_kernel = gaussian_kernel[..., tf.newaxis]\n",
    "\n",
    "    return tf.nn.depthwise_conv2d(img, gaussian_kernel, [1, 1, 1, 1],\n",
    "                                  padding='SAME', data_format='NHWC')\n",
    "\n",
    "def giveModel():\n",
    "    vgg16 = tf.keras.applications.VGG16(weights='imagenet', include_top=False, input_shape=(width, height,3),)\n",
    "    vgg16.trainable = False\n",
    "    model = tf.keras.Sequential()\n",
    "    model.add(tf.keras.layers.Lambda(preprocess))\n",
    "    model.add(vgg16)\n",
    "    model.add(tf.keras.layers.Flatten())\n",
    "    model.add(tf.keras.layers.Dropout(0.5))\n",
    "    model.add(tf.keras.layers.BatchNormalization())\n",
    "    model.add(tf.keras.layers.Dense(10, activation='softmax'))\n",
    "    loss_object = tf.keras.losses.CategoricalCrossentropy()\n",
    "    model.compile(optimizer='adam',loss=loss_object, metrics=['accuracy'])\n",
    "    return model\n"
   ]
  },
  {
   "cell_type": "code",
   "execution_count": 5,
   "metadata": {
    "colab": {
     "base_uri": "https://localhost:8080/"
    },
    "executionInfo": {
     "elapsed": 606768,
     "status": "ok",
     "timestamp": 1605464286493,
     "user": {
      "displayName": "Marco Garcia Macias",
      "photoUrl": "https://lh3.googleusercontent.com/a-/AOh14GgBr5-aZglGAjSWiPT7RhTxBWueutxFAhoEsR5icA=s64",
      "userId": "16092819022456671807"
     },
     "user_tz": -60
    },
    "id": "bBZfxti9fzlM",
    "outputId": "73bfecc5-e845-43bc-a9d1-8d76070452ac"
   },
   "outputs": [
    {
     "name": "stdout",
     "output_type": "stream",
     "text": [
      "Epoch 1/2\n",
      "WARNING:tensorflow:AutoGraph could not transform <function Model.make_train_function.<locals>.train_function at 0x000001FA0C889378> and will run it as-is.\n",
      "Please report this to the TensorFlow team. When filing the bug, set the verbosity to 10 (on Linux, `export AUTOGRAPH_VERBOSITY=10`) and attach the full output.\n",
      "Cause: 'arguments' object has no attribute 'posonlyargs'\n",
      "To silence this warning, decorate the function with @tf.autograph.experimental.do_not_convert\n",
      "WARNING: AutoGraph could not transform <function Model.make_train_function.<locals>.train_function at 0x000001FA0C889378> and will run it as-is.\n",
      "Please report this to the TensorFlow team. When filing the bug, set the verbosity to 10 (on Linux, `export AUTOGRAPH_VERBOSITY=10`) and attach the full output.\n",
      "Cause: 'arguments' object has no attribute 'posonlyargs'\n",
      "To silence this warning, decorate the function with @tf.autograph.experimental.do_not_convert\n",
      "391/391 [==============================] - ETA: 0s - loss: 0.7555 - accuracy: 0.7529WARNING:tensorflow:AutoGraph could not transform <function Model.make_test_function.<locals>.test_function at 0x000001FA42E080D0> and will run it as-is.\n",
      "Please report this to the TensorFlow team. When filing the bug, set the verbosity to 10 (on Linux, `export AUTOGRAPH_VERBOSITY=10`) and attach the full output.\n",
      "Cause: 'arguments' object has no attribute 'posonlyargs'\n",
      "To silence this warning, decorate the function with @tf.autograph.experimental.do_not_convert\n",
      "WARNING: AutoGraph could not transform <function Model.make_test_function.<locals>.test_function at 0x000001FA42E080D0> and will run it as-is.\n",
      "Please report this to the TensorFlow team. When filing the bug, set the verbosity to 10 (on Linux, `export AUTOGRAPH_VERBOSITY=10`) and attach the full output.\n",
      "Cause: 'arguments' object has no attribute 'posonlyargs'\n",
      "To silence this warning, decorate the function with @tf.autograph.experimental.do_not_convert\n",
      "391/391 [==============================] - 78s 200ms/step - loss: 0.7555 - accuracy: 0.7529 - val_loss: 0.4626 - val_accuracy: 0.8463\n",
      "Epoch 2/2\n",
      "391/391 [==============================] - 80s 204ms/step - loss: 0.5270 - accuracy: 0.8237 - val_loss: 0.4470 - val_accuracy: 0.8511\n"
     ]
    },
    {
     "data": {
      "text/plain": [
       "<tensorflow.python.keras.callbacks.History at 0x1fa0c87c9b0>"
      ]
     },
     "execution_count": 5,
     "metadata": {},
     "output_type": "execute_result"
    }
   ],
   "source": [
    "model = giveModel()\n",
    "model.fit(train_ds,validation_data=test_ds, epochs=2)"
   ]
  },
  {
   "cell_type": "code",
   "execution_count": 6,
   "metadata": {
    "id": "hUQxN7L4gsYd"
   },
   "outputs": [
    {
     "name": "stdout",
     "output_type": "stream",
     "text": [
      "WARNING:tensorflow:From C:\\Users\\chris\\anaconda3\\envs\\py36\\lib\\site-packages\\tensorflow\\python\\training\\tracking\\tracking.py:111: Model.state_updates (from tensorflow.python.keras.engine.training) is deprecated and will be removed in a future version.\n",
      "Instructions for updating:\n",
      "This property should not be used in TensorFlow 2.0, as updates are applied automatically.\n",
      "WARNING:tensorflow:From C:\\Users\\chris\\anaconda3\\envs\\py36\\lib\\site-packages\\tensorflow\\python\\training\\tracking\\tracking.py:111: Layer.updates (from tensorflow.python.keras.engine.base_layer) is deprecated and will be removed in a future version.\n",
      "Instructions for updating:\n",
      "This property should not be used in TensorFlow 2.0, as updates are applied automatically.\n",
      "WARNING:tensorflow:AutoGraph could not transform <function canonicalize_signatures.<locals>.signature_wrapper at 0x000001FC6EA161E0> and will run it as-is.\n",
      "Please report this to the TensorFlow team. When filing the bug, set the verbosity to 10 (on Linux, `export AUTOGRAPH_VERBOSITY=10`) and attach the full output.\n",
      "Cause: 'arguments' object has no attribute 'posonlyargs'\n",
      "To silence this warning, decorate the function with @tf.autograph.experimental.do_not_convert\n",
      "WARNING: AutoGraph could not transform <function canonicalize_signatures.<locals>.signature_wrapper at 0x000001FC6EA161E0> and will run it as-is.\n",
      "Please report this to the TensorFlow team. When filing the bug, set the verbosity to 10 (on Linux, `export AUTOGRAPH_VERBOSITY=10`) and attach the full output.\n",
      "Cause: 'arguments' object has no attribute 'posonlyargs'\n",
      "To silence this warning, decorate the function with @tf.autograph.experimental.do_not_convert\n",
      "INFO:tensorflow:Assets written to: model_weights\\assets\n"
     ]
    }
   ],
   "source": [
    "model.save('model_weights')"
   ]
  },
  {
   "cell_type": "code",
   "execution_count": 7,
   "metadata": {
    "executionInfo": {
     "elapsed": 1703,
     "status": "aborted",
     "timestamp": 1605463453057,
     "user": {
      "displayName": "Marco Garcia Macias",
      "photoUrl": "https://lh3.googleusercontent.com/a-/AOh14GgBr5-aZglGAjSWiPT7RhTxBWueutxFAhoEsR5icA=s64",
      "userId": "16092819022456671807"
     },
     "user_tz": -60
    },
    "id": "htBSAocm0oTW"
   },
   "outputs": [
    {
     "name": "stdout",
     "output_type": "stream",
     "text": [
      "13.0\n",
      "255.0\n",
      "(1, 32, 32, 3)\n",
      "WARNING:tensorflow:AutoGraph could not transform <function Model.make_predict_function.<locals>.predict_function at 0x00000258D8E5AA60> and will run it as-is.\n",
      "Please report this to the TensorFlow team. When filing the bug, set the verbosity to 10 (on Linux, `export AUTOGRAPH_VERBOSITY=10`) and attach the full output.\n",
      "Cause: 'arguments' object has no attribute 'posonlyargs'\n",
      "To silence this warning, decorate the function with @tf.autograph.experimental.do_not_convert\n",
      "WARNING: AutoGraph could not transform <function Model.make_predict_function.<locals>.predict_function at 0x00000258D8E5AA60> and will run it as-is.\n",
      "Please report this to the TensorFlow team. When filing the bug, set the verbosity to 10 (on Linux, `export AUTOGRAPH_VERBOSITY=10`) and attach the full output.\n",
      "Cause: 'arguments' object has no attribute 'posonlyargs'\n",
      "To silence this warning, decorate the function with @tf.autograph.experimental.do_not_convert\n",
      "cat\n"
     ]
    },
    {
     "data": {
      "image/png": "[encoded data removed]",
      "text/plain": [
       "<Figure size 432x288 with 1 Axes>"
      ]
     },
     "metadata": {
      "needs_background": "light"
     },
     "output_type": "display_data"
    }
   ],
   "source": [
    "for i, (image, label) in test_ds.take(1).enumerate():\n",
    "    print(np.min(image))\n",
    "    print(np.max(image))\n",
    "    print(image.shape)\n",
    "    y_pred = model.predict(image)\n",
    "    prob = np.max(y_pred)\n",
    "    arg = tf.argmax(y_pred, axis=1)[0]\n",
    "    #print(arg)\n",
    "    #print((y_pred))\n",
    "    print(labels[tf.argmax(label, axis=1)[0]])\n",
    "    label_pred = labels[arg]\n",
    "    plt.figure()\n",
    "    #plt.imshow(tf.cast(image[0], tf.uint8))\n",
    "    plt.imshow(image[0]/255.0)\n",
    "    plt.title(\"{} , {}\".format(label_pred, prob))\n"
   ]
  },
  {
   "cell_type": "markdown",
   "metadata": {
    "id": "chZngdxsyJVs"
   },
   "source": [
    "## FGSM\n",
    "Fast Gradient Sign Method (FGSM)—This attack computes the\n",
    "gradient of the model’s output with respect to its input. It then\n",
    "perturbs examples in that direction. The computational efficiency\n",
    "of this attack comes at the expense of it introducing large perturbations that affect the entire input. This attack is not targeted towards\n",
    "a particular class\n",
    "$$x + \\epsilon sgn(\\triangledown_xL(\\theta, x, y))$$"
   ]
  },
  {
   "cell_type": "code",
   "execution_count": 9,
   "metadata": {
    "colab": {
     "base_uri": "https://localhost:8080/",
     "height": 283
    },
    "executionInfo": {
     "elapsed": 842,
     "status": "ok",
     "timestamp": 1604485373064,
     "user": {
      "displayName": "Marco Garcia Macias",
      "photoUrl": "https://lh3.googleusercontent.com/a-/AOh14GgBr5-aZglGAjSWiPT7RhTxBWueutxFAhoEsR5icA=s64",
      "userId": "16092819022456671807"
     },
     "user_tz": -60
    },
    "id": "VYC6ssyfhUav",
    "outputId": "a684dad0-00ff-4784-cd9f-01da3a921436"
   },
   "outputs": [
    {
     "data": {
      "image/png": "[encoded data removed]",
      "text/plain": [
       "<Figure size 432x288 with 1 Axes>"
      ]
     },
     "metadata": {
      "needs_background": "light"
     },
     "output_type": "display_data"
    }
   ],
   "source": [
    "loss_object = tf.keras.losses.CategoricalCrossentropy()\n",
    "def get_sign_gradient(input_image, input_label):\n",
    "    #input_image = preprocess(input_image)\n",
    "    with tf.GradientTape() as tape:\n",
    "        tape.watch(input_image)\n",
    "        prediction = model(input_image)\n",
    "        loss = loss_object(input_label, prediction)\n",
    "    gradient = tape.gradient(loss, input_image)\n",
    "    # Get the sign of the gradients to create the perturbation\n",
    "    signed_grad = tf.sign(gradient)\n",
    "    return signed_grad\n",
    "\n",
    "for image, label in  test_ds.take(1):\n",
    "    perturbations = get_sign_gradient(image, label)\n",
    "    plt.imshow(perturbations[0]*0.5+0.5); # To change [-1, 1] to [0,1]"
   ]
  },
  {
   "cell_type": "code",
   "execution_count": 10,
   "metadata": {
    "colab": {
     "base_uri": "https://localhost:8080/",
     "height": 650
    },
    "executionInfo": {
     "elapsed": 1482,
     "status": "ok",
     "timestamp": 1604488900708,
     "user": {
      "displayName": "Marco Garcia Macias",
      "photoUrl": "https://lh3.googleusercontent.com/a-/AOh14GgBr5-aZglGAjSWiPT7RhTxBWueutxFAhoEsR5icA=s64",
      "userId": "16092819022456671807"
     },
     "user_tz": -60
    },
    "id": "Oc4WaFiquIpF",
    "outputId": "51399d94-9677-4f4c-ac6d-7bcad52c6541"
   },
   "outputs": [
    {
     "data": {
      "image/png": "[encoded data removed]",
      "text/plain": [
       "<Figure size 72x72 with 1 Axes>"
      ]
     },
     "metadata": {
      "needs_background": "light"
     },
     "output_type": "display_data"
    },
    {
     "data": {
      "image/png": "[encoded data removed]",
      "text/plain": [
       "<Figure size 72x72 with 1 Axes>"
      ]
     },
     "metadata": {
      "needs_background": "light"
     },
     "output_type": "display_data"
    },
    {
     "name": "stderr",
     "output_type": "stream",
     "text": [
      "Clipping input data to the valid range for imshow with RGB data ([0..1] for floats or [0..255] for integers).\n"
     ]
    },
    {
     "data": {
      "image/png": "[encoded data removed]",
      "text/plain": [
       "<Figure size 72x72 with 1 Axes>"
      ]
     },
     "metadata": {
      "needs_background": "light"
     },
     "output_type": "display_data"
    },
    {
     "name": "stderr",
     "output_type": "stream",
     "text": [
      "Clipping input data to the valid range for imshow with RGB data ([0..1] for floats or [0..255] for integers).\n"
     ]
    },
    {
     "data": {
      "image/png": "[encoded data removed]",
      "text/plain": [
       "<Figure size 72x72 with 1 Axes>"
      ]
     },
     "metadata": {
      "needs_background": "light"
     },
     "output_type": "display_data"
    },
    {
     "name": "stderr",
     "output_type": "stream",
     "text": [
      "Clipping input data to the valid range for imshow with RGB data ([0..1] for floats or [0..255] for integers).\n"
     ]
    },
    {
     "data": {
      "image/png": "[encoded data removed]",
      "text/plain": [
       "<Figure size 72x72 with 1 Axes>"
      ]
     },
     "metadata": {
      "needs_background": "light"
     },
     "output_type": "display_data"
    }
   ],
   "source": [
    "def display_images(image, description):\n",
    "    # _, label, confidence = get_imagenet_label(model.predict(image))\n",
    "    y_pred = model.predict(image*255.0)\n",
    "    confidence = np.max(y_pred)\n",
    "    arg = tf.argmax(y_pred, axis=1)[0]\n",
    "    label = labels[arg]\n",
    "    plt.figure(figsize=(1,1))\n",
    "    #print(np.min(image[0]))\n",
    "    #plt.imshow(tf.cast(image[0], tf.uint8))\n",
    "    plt.imshow(image[0])\n",
    "    plt.title('{} \\n {} : {:.2f}% Confidence'.format(description,\n",
    "                                                   label, confidence*100))\n",
    "    plt.show()\n",
    "\n",
    "epsilons = [0, 0.01, 0.1, 0.15,10]\n",
    "descriptions = [('Epsilon = {:0.3f}'.format(eps) if eps else 'Input')\n",
    "                for eps in epsilons]\n",
    "\n",
    "for i, eps in enumerate(epsilons):\n",
    "    for image, label in test_ds.take(1):\n",
    "        image=image/255.0\n",
    "        adv_x = image + eps*perturbations\n",
    "        adv_x = tf.clip_by_value(adv_x, -1, 1)\n",
    "        #adv_x = (adv_x*0.5+0.5)\n",
    "        #print(np.min(adv_x))\n",
    "        display_images(adv_x, descriptions[i])"
   ]
  },
  {
   "cell_type": "markdown",
   "metadata": {
    "id": "EKl67z_Yg02D"
   },
   "source": [
    "# BIM\n"
   ]
  },
  {
   "cell_type": "code",
   "execution_count": null,
   "metadata": {
    "id": "t_ttCeaL9yp8"
   },
   "outputs": [],
   "source": []
  },
  {
   "cell_type": "code",
   "execution_count": 8,
   "metadata": {
    "id": "-WsTPveWiR5e"
   },
   "outputs": [],
   "source": [
    "def BIM(input_image, input_label, alpha):\n",
    "    for i in range(step):\n",
    "        with tf.GradientTape() as tape:\n",
    "            tape.watch(input_image)\n",
    "            prediction = model(input_image)\n",
    "            loss = loss_object(input_label, prediction)\n",
    "        gradient = tape.gradient(loss, input_image)\n",
    "    # Get the sign of the gradients to create the perturbation\n",
    "    signed_grad = tf.sign(gradient)\n",
    "    signed_grad = (signed_grad*0.5+0.5)*255.0\n",
    "    adv_x = input_image + alpha*signed_grad\n",
    "    adv_x = tf.clip_by_value(adv_x, 0, 255)\n",
    "    y_pred = model.predict(adv_x*255.0)\n",
    "    confidence = np.max(y_pred)\n",
    "    arg = tf.argmax(y_pred, axis=1)[0]\n",
    "    return signed_grad"
   ]
  },
  {
   "cell_type": "markdown",
   "metadata": {
    "id": "GfzmtYUh8HyX"
   },
   "source": [
    "# Deep Fool"
   ]
  },
  {
   "cell_type": "code",
   "execution_count": 11,
   "metadata": {
    "id": "yIY7hNIv8JKF"
   },
   "outputs": [],
   "source": [
    "def im_gradient_k(input_image, model, k):\n",
    "    with tf.GradientTape() as tape:\n",
    "        tape.watch(input_image)\n",
    "        prediction = model(input_image)\n",
    "        loss = prediction[k]\n",
    "    gradient = tape.gradient(loss, input_image)\n",
    "    return gradient, loss\n",
    "\n",
    "def deepfool(image, model, max_iter):\n",
    "    label = model.predict(image)\n",
    "    num_class = label.shape[0]\n",
    "    label = tf.argmax(label)\n",
    "    label_temp = tf.identity(label)\n",
    "    image_temp = tf.identity(image)\n",
    "    w = tf.zeros_like(image)\n",
    "    i = 0\n",
    "    r = tf.zeros_like(image)\n",
    "    while (label == label_temp or i == max_iter):\n",
    "        im_grad, im_pred = im_gradient_k(image_temp, model, label)\n",
    "        pert = np.inf\n",
    "        l_hat = 0\n",
    "        r_i = tf.zeros_like(image)\n",
    "        for k in range(num_class):\n",
    "            if k == label:\n",
    "                continue\n",
    "            k_grad, k_pred = im_gradient_k(image_temp, model, k)\n",
    "            w_k = k_grad - im_grad\n",
    "            f_k = k_pred - im_pred\n",
    "            pert_k = abs(f_k) / np.linalg.norm(tf.reshape(w_k, [-1]))\n",
    "            if pert_k < pert:\n",
    "                pert = pert_k\n",
    "                l_hat = k\n",
    "                w = w_k\n",
    "        r_i = (pert) * w / np.linalg.norm(w)\n",
    "        r += r_i\n",
    "        image_temp += r\n",
    "        label_temp = tf.argmax(model(image_temp))\n",
    "        i += 1\n",
    "    return r"
   ]
  },
  {
   "cell_type": "code",
   "execution_count": null,
   "metadata": {
    "id": "FN3I6YoVyQiw"
   },
   "outputs": [],
   "source": []
  },
  {
   "cell_type": "markdown",
   "metadata": {
    "id": "5gHCCRhdyRT2"
   },
   "source": [
    "# Carlini"
   ]
  },
  {
   "cell_type": "code",
   "execution_count": null,
   "metadata": {
    "id": "4uQ2PI7WySnA"
   },
   "outputs": [],
   "source": []
  },
  {
   "cell_type": "markdown",
   "metadata": {},
   "source": [
    "# Natural noise robustness"
   ]
  },
  {
   "cell_type": "code",
   "execution_count": 18,
   "metadata": {},
   "outputs": [],
   "source": [
    "#data_augmentation = tf.keras.Sequential([\n",
    "#  tf.keras.layers.experimental.preprocessing.RandomFlip(\"horizontal_and_vertical\"),\n",
    "#  tf.keras.layers.experimental.preprocessing.RandomRotation(0.2),\n",
    "#])\n",
    "data_augmentation = tf.keras.preprocessing.image.ImageDataGenerator(\n",
    "    rotation_range=90,\n",
    "    brightness_range=[0.2, 1.7],\n",
    "    #zoom_range=[-1.5, 1.5],\n",
    "    #channel_shift_range=0.5,\n",
    "    horizontal_flip=True,\n",
    "    vertical_flip=True,\n",
    "    #preprocessing_function=preprocess,\n",
    "    #validation_split=0.2,\n",
    ")"
   ]
  },
  {
   "cell_type": "code",
   "execution_count": 19,
   "metadata": {},
   "outputs": [],
   "source": [
    "it = data_augmentation.flow(X_train,Y_train, batch_size=1)\n",
    "X_aug_train = np.zeros((X_train.shape[0]*2,X_train.shape[1],X_train.shape[2],X_train.shape[3]))\n",
    "Y_aug_train = np.zeros((Y_train.shape[0]*2,Y_train.shape[1]))\n",
    "X_aug_train[:X_train.shape[0]] = X_train.astype('float32')\n",
    "Y_aug_train[:Y_train.shape[0]] = Y_train.astype('float32')\n",
    "for i in range(X_train.shape[0],X_train.shape[0]*2):\n",
    "    batch,y = it.next()\n",
    "    Y_aug_train[i] = y\n",
    "    X_aug_train[i] = batch[0].astype('float32')\n"
   ]
  },
  {
   "cell_type": "code",
   "execution_count": 20,
   "metadata": {},
   "outputs": [],
   "source": [
    "it = data_augmentation.flow(X_test,Y_test, batch_size=1)\n",
    "X_aug_test = np.zeros((X_test.shape[0]*2,X_test.shape[1],X_test.shape[2],X_test.shape[3]))\n",
    "Y_aug_test = np.zeros((Y_test.shape[0]*2,Y_test.shape[1]))\n",
    "X_aug_test[:X_test.shape[0]] = X_test.astype('float32')\n",
    "Y_aug_test[:Y_test.shape[0]] = Y_test.astype('float32')\n",
    "for i in range(X_test.shape[0],X_test.shape[0]*2):\n",
    "    batch,y = it.next()\n",
    "    Y_aug_test[i] = y\n",
    "    X_aug_test[i] = batch[0].astype('float32')\n"
   ]
  },
  {
   "cell_type": "code",
   "execution_count": 22,
   "metadata": {},
   "outputs": [],
   "source": [
    "x_train = tf.data.Dataset.from_tensor_slices(X_aug_train)\n",
    "y_train = tf.data.Dataset.from_tensor_slices(Y_aug_train)\n",
    "\n",
    "x_train = tf.data.Dataset.from_tensor_slices(X_aug_train)\n",
    "x_test = tf.data.Dataset.from_tensor_slices(X_aug_test)\n",
    "y_train = tf.data.Dataset.from_tensor_slices(Y_aug_train)\n",
    "y_test = tf.data.Dataset.from_tensor_slices(Y_aug_test)\n",
    "\n",
    "train_ds = tf.data.Dataset.zip((x_train,y_train))\n",
    "test_ds = tf.data.Dataset.zip((x_test,y_test))\n",
    "train_ds = train_ds.batch(128)\n",
    "test_ds = test_ds.batch(1)"
   ]
  },
  {
   "cell_type": "code",
   "execution_count": 28,
   "metadata": {},
   "outputs": [
    {
     "name": "stdout",
     "output_type": "stream",
     "text": [
      "Epoch 1/20\n",
      "782/782 [==============================] - 159s 203ms/step - loss: 0.7937 - accuracy: 0.7245 - val_loss: 0.7691 - val_accuracy: 0.7358\n",
      "Epoch 2/20\n",
      "782/782 [==============================] - 159s 203ms/step - loss: 0.7927 - accuracy: 0.7234 - val_loss: 0.7662 - val_accuracy: 0.7361\n",
      "Epoch 3/20\n",
      "782/782 [==============================] - 157s 200ms/step - loss: 0.7959 - accuracy: 0.7236 - val_loss: 0.7671 - val_accuracy: 0.7359\n",
      "Epoch 4/20\n",
      "782/782 [==============================] - 157s 201ms/step - loss: 0.7900 - accuracy: 0.7225 - val_loss: 0.7650 - val_accuracy: 0.7361\n",
      "Epoch 5/20\n",
      "782/782 [==============================] - 157s 201ms/step - loss: 0.7911 - accuracy: 0.7245 - val_loss: 0.7649 - val_accuracy: 0.7369\n",
      "Epoch 6/20\n",
      "782/782 [==============================] - 157s 200ms/step - loss: 0.7901 - accuracy: 0.7247 - val_loss: 0.7654 - val_accuracy: 0.7358\n",
      "Epoch 7/20\n",
      "782/782 [==============================] - 157s 200ms/step - loss: 0.7890 - accuracy: 0.7252 - val_loss: 0.7641 - val_accuracy: 0.7364\n",
      "Epoch 8/20\n",
      "782/782 [==============================] - 156s 199ms/step - loss: 0.7924 - accuracy: 0.7226 - val_loss: 0.7644 - val_accuracy: 0.7358\n",
      "Epoch 9/20\n",
      "782/782 [==============================] - 158s 202ms/step - loss: 0.7870 - accuracy: 0.7252 - val_loss: 0.7642 - val_accuracy: 0.7361\n",
      "Epoch 10/20\n",
      "782/782 [==============================] - 159s 203ms/step - loss: 0.7918 - accuracy: 0.7254 - val_loss: 0.7653 - val_accuracy: 0.7357\n",
      "Epoch 11/20\n",
      "782/782 [==============================] - 159s 203ms/step - loss: 0.7871 - accuracy: 0.7251 - val_loss: 0.7659 - val_accuracy: 0.7359\n",
      "Epoch 12/20\n",
      "782/782 [==============================] - 159s 203ms/step - loss: 0.7867 - accuracy: 0.7262 - val_loss: 0.7665 - val_accuracy: 0.7347\n",
      "Epoch 13/20\n",
      "782/782 [==============================] - 157s 201ms/step - loss: 0.7911 - accuracy: 0.7239 - val_loss: 0.7683 - val_accuracy: 0.7351\n",
      "Epoch 14/20\n",
      "782/782 [==============================] - 159s 203ms/step - loss: 0.7899 - accuracy: 0.7255 - val_loss: 0.7658 - val_accuracy: 0.7346\n",
      "Epoch 15/20\n",
      "782/782 [==============================] - 159s 203ms/step - loss: 0.7888 - accuracy: 0.7234 - val_loss: 0.7636 - val_accuracy: 0.7369\n",
      "Epoch 16/20\n",
      "782/782 [==============================] - 158s 202ms/step - loss: 0.7876 - accuracy: 0.7267 - val_loss: 0.7647 - val_accuracy: 0.7344\n",
      "Epoch 17/20\n",
      "782/782 [==============================] - 159s 203ms/step - loss: 0.7853 - accuracy: 0.7264 - val_loss: 0.7650 - val_accuracy: 0.7347\n",
      "Epoch 18/20\n",
      "782/782 [==============================] - 157s 201ms/step - loss: 0.7874 - accuracy: 0.7236 - val_loss: 0.7639 - val_accuracy: 0.7344\n",
      "Epoch 19/20\n",
      "782/782 [==============================] - 158s 202ms/step - loss: 0.7845 - accuracy: 0.7256 - val_loss: 0.7635 - val_accuracy: 0.7355\n",
      "Epoch 20/20\n",
      "782/782 [==============================] - 157s 201ms/step - loss: 0.7872 - accuracy: 0.7260 - val_loss: 0.7640 - val_accuracy: 0.7341\n"
     ]
    },
    {
     "data": {
      "text/plain": [
       "<tensorflow.python.keras.callbacks.History at 0x1fa8a5a71d0>"
      ]
     },
     "execution_count": 28,
     "metadata": {},
     "output_type": "execute_result"
    }
   ],
   "source": [
    "#model = giveModel()\n",
    "model.fit(train_ds,validation_data=test_ds, epochs=20)   "
   ]
  },
  {
   "cell_type": "code",
   "execution_count": 29,
   "metadata": {},
   "outputs": [
    {
     "name": "stdout",
     "output_type": "stream",
     "text": [
      "WARNING:tensorflow:AutoGraph could not transform <function canonicalize_signatures.<locals>.signature_wrapper at 0x000001FC9E8EE158> and will run it as-is.\n",
      "Please report this to the TensorFlow team. When filing the bug, set the verbosity to 10 (on Linux, `export AUTOGRAPH_VERBOSITY=10`) and attach the full output.\n",
      "Cause: 'arguments' object has no attribute 'posonlyargs'\n",
      "To silence this warning, decorate the function with @tf.autograph.experimental.do_not_convert\n",
      "WARNING: AutoGraph could not transform <function canonicalize_signatures.<locals>.signature_wrapper at 0x000001FC9E8EE158> and will run it as-is.\n",
      "Please report this to the TensorFlow team. When filing the bug, set the verbosity to 10 (on Linux, `export AUTOGRAPH_VERBOSITY=10`) and attach the full output.\n",
      "Cause: 'arguments' object has no attribute 'posonlyargs'\n",
      "To silence this warning, decorate the function with @tf.autograph.experimental.do_not_convert\n",
      "INFO:tensorflow:Assets written to: model_weights_nat_noise\\assets\n"
     ]
    }
   ],
   "source": [
    "model.save('model_weights_nat_noise')"
   ]
  },
  {
   "cell_type": "code",
   "execution_count": null,
   "metadata": {},
   "outputs": [],
   "source": []
  }
 ],
 "metadata": {
  "accelerator": "GPU",
  "colab": {
   "authorship_tag": "ABX9TyMOBt4mKzUU7MeSttUuCCNx",
   "collapsed_sections": [
    "w0DlpVdN5vmn"
   ],
   "name": "Transversal_Project.ipynb",
   "provenance": []
  },
  "kernelspec": {
   "display_name": "Python 3",
   "language": "python",
   "name": "python3"
  },
  "language_info": {
   "codemirror_mode": {
    "name": "ipython",
    "version": 3
   },
   "file_extension": ".py",
   "mimetype": "text/x-python",
   "name": "python",
   "nbconvert_exporter": "python",
   "pygments_lexer": "ipython3",
   "version": "3.6.10"
  }
 },
 "nbformat": 4,
 "nbformat_minor": 1
}
